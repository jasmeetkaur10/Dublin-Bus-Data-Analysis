{
 "cells": [
  {
   "cell_type": "markdown",
   "metadata": {},
   "source": [
    "In this last step we will try to locate the red flagged regions in a real time map for a clear visualization of the realtime traffic."
   ]
  },
  {
   "cell_type": "code",
   "execution_count": 6,
   "metadata": {},
   "outputs": [],
   "source": [
    "# basic imports\n",
    "import pandas as pd\n",
    "import numpy as np\n",
    "import datetime\n",
    "from sklearn.metrics import silhouette_score\n",
    "from sklearn.cluster import KMeans, AgglomerativeClustering, DBSCAN\n",
    "import seaborn as sns\n",
    "import matplotlib.pyplot as plt\n",
    "from sklearn import preprocessing\n",
    "from sklearn.preprocessing import StandardScaler, Normalizer\n",
    "from sklearn.decomposition import PCA\n",
    "from IPython.display import HTML\n",
    "from collections import defaultdict\n",
    "from sklearn.model_selection import ParameterGrid\n",
    "from scipy.cluster.hierarchy import dendrogram, linkage\n",
    "from sklearn.feature_selection import RFE\n",
    "from sklearn.linear_model import LinearRegression\n",
    "from tqdm import tqdm_notebook as tqdm\n",
    "import gmaps\n",
    "import gmaps.datasets\n",
    "gmaps.configure(api_key=\"\") # Your Google API key\n",
    "#plt.rcParams[\"figure.figsize\"] = (10,8)"
   ]
  },
  {
   "cell_type": "code",
   "execution_count": 3,
   "metadata": {},
   "outputs": [],
   "source": [
    "stopbyroute = pd.read_csv('stopbyroute_updated_final.csv')\n",
    "clustering = pd.read_csv('clustering.csv')"
   ]
  },
  {
   "cell_type": "code",
   "execution_count": 4,
   "metadata": {},
   "outputs": [],
   "source": [
    "stopbyroute = stopbyroute.join(clustering)"
   ]
  },
  {
   "cell_type": "code",
   "execution_count": 5,
   "metadata": {},
   "outputs": [],
   "source": [
    "geo_analysis = stopbyroute[['lat', 'long', 'cluster_kmeans']]"
   ]
  },
  {
   "cell_type": "code",
   "execution_count": 19,
   "metadata": {},
   "outputs": [
    {
     "data": {
      "application/vnd.jupyter.widget-view+json": {
       "model_id": "1bd1b2ba5cba48b6bf30f13b4f290dec",
       "version_major": 2,
       "version_minor": 0
      },
      "text/plain": [
       "Figure(layout=FigureLayout(height='420px'))"
      ]
     },
     "metadata": {},
     "output_type": "display_data"
    }
   ],
   "source": [
    "red_df = geo_analysis[geo_analysis.cluster_kmeans == 2][['lat', 'long']]\n",
    "green_df = geo_analysis[geo_analysis.cluster_kmeans == 1][['lat', 'long']]\n",
    "yellow_df = geo_analysis[geo_analysis.cluster_kmeans == 0][['lat', 'long']]\n",
    "\n",
    "red = gmaps.symbol_layer(\n",
    "    red_df, fill_color=\"red\", stroke_color=\"red\", scale=3, stroke_opacity=0.5\n",
    ")\n",
    "\n",
    "green = gmaps.symbol_layer(\n",
    "    green_df, fill_color=\"green\", stroke_color=\"green\", scale=3, stroke_opacity=0.5\n",
    ")\n",
    "\n",
    "yellow = gmaps.symbol_layer(\n",
    "    yellow_df, fill_color=\"yellow\", stroke_color=\"yellow\", scale=3, stroke_opacity=0.5\n",
    ")\n",
    "\n",
    "fig = gmaps.figure()\n",
    "fig.add_layer(green)\n",
    "fig.add_layer(yellow)\n",
    "fig.add_layer(red)\n",
    "fig"
   ]
  },
  {
   "cell_type": "markdown",
   "metadata": {},
   "source": [
    "**PLEASE USE THE image I SENT YOU**"
   ]
  }
 ],
 "metadata": {
  "kernelspec": {
   "display_name": "Python 3",
   "language": "python",
   "name": "python3"
  },
  "language_info": {
   "codemirror_mode": {
    "name": "ipython",
    "version": 3
   },
   "file_extension": ".py",
   "mimetype": "text/x-python",
   "name": "python",
   "nbconvert_exporter": "python",
   "pygments_lexer": "ipython3",
   "version": "3.7.1"
  }
 },
 "nbformat": 4,
 "nbformat_minor": 2
}

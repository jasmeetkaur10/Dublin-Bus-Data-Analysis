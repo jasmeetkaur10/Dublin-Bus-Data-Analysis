{
 "cells": [
  {
   "cell_type": "markdown",
   "metadata": {},
   "source": [
    "### Part 1: Data Reading"
   ]
  },
  {
   "cell_type": "code",
   "execution_count": 1,
   "metadata": {},
   "outputs": [],
   "source": [
    "# basic imports\n",
    "import pandas as pd\n",
    "import numpy as np\n",
    "import datetime\n",
    "from sklearn.metrics import silhouette_score\n",
    "from sklearn.cluster import KMeans, AgglomerativeClustering, DBSCAN\n",
    "import seaborn as sns\n",
    "import matplotlib.pyplot as plt\n",
    "from sklearn import preprocessing\n",
    "from sklearn.preprocessing import StandardScaler, Normalizer\n",
    "from sklearn.decomposition import PCA\n",
    "from IPython.display import HTML\n",
    "from collections import defaultdict\n",
    "from sklearn.model_selection import ParameterGrid\n",
    "from scipy.cluster.hierarchy import dendrogram, linkage\n",
    "from sklearn.feature_selection import RFE\n",
    "from sklearn.linear_model import LogisticRegression\n",
    "from tqdm import tqdm_notebook as tqdm\n",
    "import gmaps"
   ]
  },
  {
   "cell_type": "code",
   "execution_count": 2,
   "metadata": {},
   "outputs": [],
   "source": [
    "plt.rcParams[\"figure.figsize\"] = (16,12)\n",
    "pd.set_option('display.max_columns', 500)"
   ]
  },
  {
   "cell_type": "code",
   "execution_count": 3,
   "metadata": {},
   "outputs": [],
   "source": [
    "# read the data\n",
    "df = pd.read_csv('dump/realtimedata.csv', header=None)\n",
    "clustering = pd.read_csv('clustering.csv')"
   ]
  },
  {
   "cell_type": "code",
   "execution_count": 4,
   "metadata": {},
   "outputs": [],
   "source": [
    "# rename columns of the actual df\n",
    "df.columns = ['ServiceDelivery_ResponseTimestamp',\n",
    "'ServiceDelivery_ProducerRef',\n",
    "'ServiceDelivery_Status',\n",
    "'ServiceDelivery_MoreData',\n",
    "'StopMonitoringDelivery_Version',\n",
    "'StopMonitoringDelivery_ResponseTimestamp',\n",
    "'StopMonitoringDelivery_RequestMessageRef',\n",
    "'MonitoredStopVisit_RecordedAtTime',\n",
    "'StopNumber',\n",
    "'MonitoredVehicleJourney_LineRef',\n",
    "'MonitoredVehicleJourney_DirectionRef',\n",
    "'FramedVehicleJourneyRef_DataFrameRef',\n",
    "'FramedVehicleJourneyRef_DatedVehicleJourneyRef',\n",
    "'RouteNumber',\n",
    "'MonitoredVehicleJourney_OperatorRef',\n",
    "'DestinationStop',\n",
    "'DestinationName',\n",
    "'MonitoredVehicleJourney_Monitored',\n",
    "'MonitoredVehicleJourney_InCongestion',\n",
    "'MonitoredVehicleJourney_BlockRef',\n",
    "'MonitoredVehicleJourney_VehicleRef',\n",
    "'MonitoredCall_VisitNumber',\n",
    "'MonitoredCall_VehicleAtStop',\n",
    "'MonitoredCall_AimedArrivalTime',\n",
    "'MonitoredCall_ExpectedArrivalTime',\n",
    "'MonitoredCall_AimedDepartureTime',\n",
    "'MonitoredCall_ExpectedDepartureTime',\n",
    "'scrapetime',\n",
    "'aimed_minutes_due',\n",
    "'expected_minutes_due',\n",
    "'ID',\n",
    "'Day',\n",
    "'Month',\n",
    "'Season',\n",
    "'TimeOfDay',\n",
    "'Special',\n",
    "'BusShare']"
   ]
  },
  {
   "cell_type": "markdown",
   "metadata": {},
   "source": [
    "### Part 2: Data Re-joining\n",
    "\n",
    "Once we have the clusters, we want to map it back to the realtime data to observe a clear pattern in the dataset. We will start by joining the cluster aggregated data with the realtime data using the stop number and the directional reference as join keys."
   ]
  },
  {
   "cell_type": "code",
   "execution_count": 5,
   "metadata": {},
   "outputs": [],
   "source": [
    "df = df[['StopNumber', 'MonitoredVehicleJourney_DirectionRef', 'MonitoredCall_ExpectedArrivalTime', 'MonitoredCall_AimedArrivalTime', 'Day', 'Month', 'TimeOfDay']]"
   ]
  },
  {
   "cell_type": "code",
   "execution_count": 6,
   "metadata": {},
   "outputs": [],
   "source": [
    "# create delay_sec\n",
    "df['MonitoredCall_AimedArrivalTime'] = df['MonitoredCall_AimedArrivalTime'].astype('datetime64')\n",
    "df['MonitoredCall_ExpectedArrivalTime'] = df['MonitoredCall_ExpectedArrivalTime'].astype('datetime64')\n",
    "df['delay_sec'] = (df['MonitoredCall_ExpectedArrivalTime'] - df['MonitoredCall_AimedArrivalTime'])/np.timedelta64(1,'s')"
   ]
  },
  {
   "cell_type": "markdown",
   "metadata": {},
   "source": [
    "### Part 3: Data Re-joining\n",
    "\n",
    "Next we need to create three new variables for cluster analysis. They are hour, day and month. We want to see the traffic pattern across various times of the day, over the weekdays and weekends and over the months to see if they exhibit any seasonality."
   ]
  },
  {
   "cell_type": "code",
   "execution_count": 7,
   "metadata": {},
   "outputs": [],
   "source": [
    "# create day\n",
    "df['Day'] = df['MonitoredCall_AimedArrivalTime'].apply(lambda x: x.strftime(\"%A\"))"
   ]
  },
  {
   "cell_type": "code",
   "execution_count": 8,
   "metadata": {},
   "outputs": [],
   "source": [
    "# create month\n",
    "df['Month'] = df['MonitoredCall_AimedArrivalTime'].apply(lambda x: x.month)"
   ]
  },
  {
   "cell_type": "code",
   "execution_count": 9,
   "metadata": {},
   "outputs": [],
   "source": [
    "# create time of day\n",
    "df['TimeOfDay'] = df['MonitoredCall_AimedArrivalTime'].apply(lambda x: x.hour)"
   ]
  },
  {
   "cell_type": "code",
   "execution_count": 10,
   "metadata": {},
   "outputs": [],
   "source": [
    "# replace the values for direction of the traffic\n",
    "df.MonitoredVehicleJourney_DirectionRef = df.MonitoredVehicleJourney_DirectionRef.replace({'Inbound':'I', 'Outbound':'O'})"
   ]
  },
  {
   "cell_type": "code",
   "execution_count": 11,
   "metadata": {},
   "outputs": [],
   "source": [
    "clustering = clustering[['StopNumber', 'MonitoredVehicleJourney_DirectionRef', 'cluster_kmeans']]"
   ]
  },
  {
   "cell_type": "code",
   "execution_count": 12,
   "metadata": {},
   "outputs": [],
   "source": [
    "df_cluster = df.merge(clustering, left_on=['StopNumber', 'MonitoredVehicleJourney_DirectionRef'], right_on=['StopNumber', 'MonitoredVehicleJourney_DirectionRef'])"
   ]
  },
  {
   "cell_type": "code",
   "execution_count": 13,
   "metadata": {},
   "outputs": [],
   "source": [
    "# df_cluster.to_csv('cluster_time_analysis.csv', index=False)"
   ]
  },
  {
   "cell_type": "code",
   "execution_count": 14,
   "metadata": {},
   "outputs": [
    {
     "data": {
      "text/html": [
       "<div>\n",
       "<style scoped>\n",
       "    .dataframe tbody tr th:only-of-type {\n",
       "        vertical-align: middle;\n",
       "    }\n",
       "\n",
       "    .dataframe tbody tr th {\n",
       "        vertical-align: top;\n",
       "    }\n",
       "\n",
       "    .dataframe thead th {\n",
       "        text-align: right;\n",
       "    }\n",
       "</style>\n",
       "<table border=\"1\" class=\"dataframe\">\n",
       "  <thead>\n",
       "    <tr style=\"text-align: right;\">\n",
       "      <th></th>\n",
       "      <th>StopNumber</th>\n",
       "      <th>MonitoredVehicleJourney_DirectionRef</th>\n",
       "      <th>MonitoredCall_ExpectedArrivalTime</th>\n",
       "      <th>MonitoredCall_AimedArrivalTime</th>\n",
       "      <th>Day</th>\n",
       "      <th>Month</th>\n",
       "      <th>TimeOfDay</th>\n",
       "      <th>delay_sec</th>\n",
       "      <th>cluster_kmeans</th>\n",
       "    </tr>\n",
       "  </thead>\n",
       "  <tbody>\n",
       "    <tr>\n",
       "      <th>0</th>\n",
       "      <td>12</td>\n",
       "      <td>I</td>\n",
       "      <td>2019-01-31 14:17:31</td>\n",
       "      <td>2019-01-31 14:18:02</td>\n",
       "      <td>Thursday</td>\n",
       "      <td>1</td>\n",
       "      <td>14</td>\n",
       "      <td>-31.0</td>\n",
       "      <td>0</td>\n",
       "    </tr>\n",
       "    <tr>\n",
       "      <th>1</th>\n",
       "      <td>12</td>\n",
       "      <td>I</td>\n",
       "      <td>2019-01-31 14:31:58</td>\n",
       "      <td>2019-01-31 14:33:02</td>\n",
       "      <td>Thursday</td>\n",
       "      <td>1</td>\n",
       "      <td>14</td>\n",
       "      <td>-64.0</td>\n",
       "      <td>0</td>\n",
       "    </tr>\n",
       "    <tr>\n",
       "      <th>2</th>\n",
       "      <td>12</td>\n",
       "      <td>I</td>\n",
       "      <td>2019-01-31 13:56:33</td>\n",
       "      <td>2019-01-31 13:42:00</td>\n",
       "      <td>Thursday</td>\n",
       "      <td>1</td>\n",
       "      <td>13</td>\n",
       "      <td>873.0</td>\n",
       "      <td>0</td>\n",
       "    </tr>\n",
       "    <tr>\n",
       "      <th>3</th>\n",
       "      <td>12</td>\n",
       "      <td>I</td>\n",
       "      <td>2019-01-31 14:14:06</td>\n",
       "      <td>2019-01-31 14:12:00</td>\n",
       "      <td>Thursday</td>\n",
       "      <td>1</td>\n",
       "      <td>14</td>\n",
       "      <td>126.0</td>\n",
       "      <td>0</td>\n",
       "    </tr>\n",
       "    <tr>\n",
       "      <th>4</th>\n",
       "      <td>12</td>\n",
       "      <td>I</td>\n",
       "      <td>2019-01-29 14:13:59</td>\n",
       "      <td>2019-01-29 14:11:52</td>\n",
       "      <td>Tuesday</td>\n",
       "      <td>1</td>\n",
       "      <td>14</td>\n",
       "      <td>127.0</td>\n",
       "      <td>0</td>\n",
       "    </tr>\n",
       "  </tbody>\n",
       "</table>\n",
       "</div>"
      ],
      "text/plain": [
       "   StopNumber MonitoredVehicleJourney_DirectionRef  \\\n",
       "0          12                                    I   \n",
       "1          12                                    I   \n",
       "2          12                                    I   \n",
       "3          12                                    I   \n",
       "4          12                                    I   \n",
       "\n",
       "  MonitoredCall_ExpectedArrivalTime MonitoredCall_AimedArrivalTime       Day  \\\n",
       "0               2019-01-31 14:17:31            2019-01-31 14:18:02  Thursday   \n",
       "1               2019-01-31 14:31:58            2019-01-31 14:33:02  Thursday   \n",
       "2               2019-01-31 13:56:33            2019-01-31 13:42:00  Thursday   \n",
       "3               2019-01-31 14:14:06            2019-01-31 14:12:00  Thursday   \n",
       "4               2019-01-29 14:13:59            2019-01-29 14:11:52   Tuesday   \n",
       "\n",
       "   Month  TimeOfDay  delay_sec  cluster_kmeans  \n",
       "0      1         14      -31.0               0  \n",
       "1      1         14      -64.0               0  \n",
       "2      1         13      873.0               0  \n",
       "3      1         14      126.0               0  \n",
       "4      1         14      127.0               0  "
      ]
     },
     "execution_count": 14,
     "metadata": {},
     "output_type": "execute_result"
    }
   ],
   "source": [
    "df_cluster.head()"
   ]
  },
  {
   "cell_type": "code",
   "execution_count": 15,
   "metadata": {},
   "outputs": [],
   "source": [
    "df_cluster['TimeOfDay'] = df.TimeOfDay.astype('str')\n",
    "df_cluster['Month'] = df.Month.astype('str')\n",
    "df_cluster['delay'] = df.delay_sec/60"
   ]
  },
  {
   "cell_type": "markdown",
   "metadata": {},
   "source": [
    "### Part 4: Hourly Analysis"
   ]
  },
  {
   "cell_type": "code",
   "execution_count": 16,
   "metadata": {
    "scrolled": false
   },
   "outputs": [
    {
     "data": {
      "image/png": "[encoded data removed]",
      "text/plain": [
       "<Figure size 1152x864 with 1 Axes>"
      ]
     },
     "metadata": {
      "needs_background": "light"
     },
     "output_type": "display_data"
    }
   ],
   "source": [
    "temp = df_cluster[df_cluster.cluster_kmeans == 2]\n",
    "temp = temp.groupby('TimeOfDay').agg({'delay': 'mean'}).reset_index()\n",
    "temp.plot();\n",
    "plt.xticks(np.arange(0, 24, step=3));\n",
    "plt.title(\"Mean Delay across hours of the day\");\n",
    "plt.xlabel(\"Hours\");\n",
    "plt.ylabel(\"Delay (min)\");"
   ]
  },
  {
   "cell_type": "markdown",
   "metadata": {},
   "source": [
    "We can conclude that over the nights, the delay increases. Human behaviour, sleepiness can be some of the plausible reason behind it.\n",
    "\n",
    "However again we see a peak delay during the 10-11 am. Maybe rush for office, the roads being filled with other vehicles during this time can account up for it. AGain we see a two peaks around 3 pm and 8 pm. Maybe they are reasons for breaking up of schools, factory shift changes etc and returning for office respectively."
   ]
  },
  {
   "cell_type": "markdown",
   "metadata": {},
   "source": [
    "### Part 5: Weekly Analysis"
   ]
  },
  {
   "cell_type": "code",
   "execution_count": 17,
   "metadata": {},
   "outputs": [
    {
     "data": {
      "image/png": "[encoded data removed]",
      "text/plain": [
       "<Figure size 1152x864 with 1 Axes>"
      ]
     },
     "metadata": {
      "needs_background": "light"
     },
     "output_type": "display_data"
    }
   ],
   "source": [
    "temp = df_cluster[df_cluster.cluster_kmeans == 2]\n",
    "temp = temp.groupby('Day').agg({'delay': 'mean'})\n",
    "temp.reindex(['Monday', 'Tuesday', 'Wednesday', 'Thursday', 'Friday', 'Saturday', 'Sunday']).plot.bar();\n",
    "plt.title(\"Mean Delay across the Week\");\n",
    "plt.xlabel(\"Week\");\n",
    "plt.ylabel(\"Delay (min)\");"
   ]
  },
  {
   "cell_type": "markdown",
   "metadata": {},
   "source": [
    "There's as such no pattern in the data except a peak during Sunday and a drop during Tuesday. This requires more expertise in the domain and the region to make a comment on."
   ]
  }
 ],
 "metadata": {
  "kernelspec": {
   "display_name": "Python 3",
   "language": "python",
   "name": "python3"
  },
  "language_info": {
   "codemirror_mode": {
    "name": "ipython",
    "version": 3
   },
   "file_extension": ".py",
   "mimetype": "text/x-python",
   "name": "python",
   "nbconvert_exporter": "python",
   "pygments_lexer": "ipython3",
   "version": "3.7.1"
  }
 },
 "nbformat": 4,
 "nbformat_minor": 2
}
